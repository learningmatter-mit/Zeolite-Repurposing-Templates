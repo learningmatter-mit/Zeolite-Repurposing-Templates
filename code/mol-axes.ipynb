{
 "cells": [
  {
   "cell_type": "markdown",
   "metadata": {},
   "source": [
    "# Example on how to calculate the principal axes of a molecule\n",
    "\n",
    "This notebook shows how to calculate the principal axes of the molecule (Fig. 1 of the main paper). It uses `ase` and `nglview` only for visualization. The principal component analysis (PCA) is calculated using an off-the-shelf implementation from `scikit-learn`."
   ]
  },
  {
   "cell_type": "code",
   "execution_count": 1,
   "metadata": {},
   "outputs": [
    {
     "data": {
      "application/vnd.jupyter.widget-view+json": {
       "model_id": "58ba47ee01a34c908ea4a20cf4cccf8c",
       "version_major": 2,
       "version_minor": 0
      },
      "text/plain": []
     },
     "metadata": {},
     "output_type": "display_data"
    }
   ],
   "source": [
    "import numpy as np\n",
    "import matplotlib.pyplot as plt\n",
    "from sklearn.decomposition import IncrementalPCA\n",
    "\n",
    "from ase import Atoms\n",
    "import nglview as nv"
   ]
  },
  {
   "cell_type": "markdown",
   "metadata": {},
   "source": [
    "## Visualizing the 3D conformer\n",
    "\n",
    "The atomic coordinates were calculated using molecular mechanics, as described in the paper. Here, the coordinates are provided for an immediate visualization."
   ]
  },
  {
   "cell_type": "code",
   "execution_count": 2,
   "metadata": {},
   "outputs": [],
   "source": [
    "smiles = 'CC[N+](C)(C)CC'\n",
    "nxyz = np.array([\n",
    "    [6.0, -2.0366, 0.8406, -0.2439],\n",
    "    [6.0, -1.1877, -0.1131, 0.5807],\n",
    "    [7.0, 0.1397, -0.5059, -0.0949],\n",
    "    [6.0, -0.138, -1.3056, -1.3752],\n",
    "    [6.0, 0.8961, -1.4392, 0.8604],\n",
    "    [6.0, 1.0267, 0.6959, -0.4714],\n",
    "    [6.0, 1.362, 1.6019, 0.702],\n",
    "    [1.0, -1.5315, 1.793, -0.4248],\n",
    "    [1.0, -2.9613, 1.0649, 0.2988],\n",
    "    [1.0, -2.3254, 0.4092, -1.2059],\n",
    "    [1.0, -0.9454, 0.3309, 1.552],\n",
    "    [1.0, -1.7389, -1.0428, 0.7652],\n",
    "    [1.0, -0.5884, -0.6421, -2.1175],\n",
    "    [1.0, -0.8138, -2.1302, -1.1308],\n",
    "    [1.0, 0.8141, -1.6915, -1.7526],\n",
    "    [1.0, 0.3017, -2.3483, 0.9949],\n",
    "    [1.0, 1.0241, -0.9355, 1.8216],\n",
    "    [1.0, 1.8662, -1.6801, 0.4162],\n",
    "    [1.0, 1.9472, 0.2888, -0.9066],\n",
    "    [1.0, 0.5065, 1.2582, -1.254],\n",
    "    [1.0, 0.4697, 2.0512, 1.1457],\n",
    "    [1.0, 1.9152, 1.0759, 1.4844],\n",
    "    [1.0, 1.9977, 2.4239, 0.3555]\n",
    "])"
   ]
  },
  {
   "cell_type": "code",
   "execution_count": 3,
   "metadata": {},
   "outputs": [],
   "source": [
    "at = Atoms(positions=nxyz[:, 1:], numbers=nxyz[:, 0])"
   ]
  },
  {
   "cell_type": "code",
   "execution_count": 4,
   "metadata": {},
   "outputs": [
    {
     "data": {
      "application/vnd.jupyter.widget-view+json": {
       "model_id": "fa690a9fa8794d27ab855a78c243a0f7",
       "version_major": 2,
       "version_minor": 0
      },
      "text/plain": [
       "NGLWidget()"
      ]
     },
     "metadata": {},
     "output_type": "display_data"
    }
   ],
   "source": [
    "nv.show_ase(at)"
   ]
  },
  {
   "cell_type": "markdown",
   "metadata": {},
   "source": [
    "## Obtaining major axes of the molecule\n",
    "\n",
    "A PCA is performed to the xyz coordinates of the conformer described above. Then, the 2D representation is used to extract the major axes and plotted to be visualized in plane."
   ]
  },
  {
   "cell_type": "code",
   "execution_count": 5,
   "metadata": {},
   "outputs": [],
   "source": [
    "pca = IncrementalPCA(2)"
   ]
  },
  {
   "cell_type": "code",
   "execution_count": 6,
   "metadata": {},
   "outputs": [
    {
     "name": "stdout",
     "output_type": "stream",
     "text": [
      "[4.94142946 4.43792541]\n"
     ]
    }
   ],
   "source": [
    "uv = pca.fit(nxyz[:, 1:]).transform(nxyz[:, 1:])\n",
    "axes = uv.max(0) - uv.min(0)\n",
    "print(axes)"
   ]
  },
  {
   "cell_type": "code",
   "execution_count": 7,
   "metadata": {},
   "outputs": [
    {
     "data": {
      "image/png": "[encoded data removed]",
      "text/plain": [
       "<Figure size 432x288 with 1 Axes>"
      ]
     },
     "metadata": {
      "needs_background": "light"
     },
     "output_type": "display_data"
    }
   ],
   "source": [
    "fig, ax = plt.subplots()\n",
    "\n",
    "ax.scatter(uv[:, 0], uv[:, 1], c=nxyz[:, 0], s=nxyz[:, 0] * 30)\n",
    "plt.show()"
   ]
  }
 ],
 "metadata": {
  "kernelspec": {
   "display_name": "zeo",
   "language": "python",
   "name": "zeo"
  },
  "language_info": {
   "codemirror_mode": {
    "name": "ipython",
    "version": 3
   },
   "file_extension": ".py",
   "mimetype": "text/x-python",
   "name": "python",
   "nbconvert_exporter": "python",
   "pygments_lexer": "ipython3",
   "version": "3.8.12"
  }
 },
 "nbformat": 4,
 "nbformat_minor": 4
}
